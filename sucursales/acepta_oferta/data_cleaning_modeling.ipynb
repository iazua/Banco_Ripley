{
 "cells": [
  {
   "metadata": {
    "ExecuteTime": {
     "end_time": "2025-05-14T18:53:16.804006Z",
     "start_time": "2025-05-14T18:52:04.023469Z"
    }
   },
   "cell_type": "code",
   "source": [
    "# Importar librerías necesarias\n",
    "import pandas as pd\n",
    "import numpy as np\n",
    "from sklearn.model_selection import train_test_split\n",
    "from sklearn.metrics import mean_absolute_error, r2_score\n",
    "from xgboost import XGBRegressor\n",
    "from lightgbm import LGBMRegressor\n",
    "from catboost import CatBoostRegressor\n",
    "import holidays\n",
    "import pyodbc\n",
    "from datetime import datetime\n",
    "\n",
    "# Conectar a SQL Server\n",
    "conn = pyodbc.connect('DRIVER={ODBC Driver 17 for SQL Server};'\n",
    "                      'SERVER=192.168.192.21;'\n",
    "                      'DATABASE=Auris_Personas;'\n",
    "                      'UID=iazuaz;'\n",
    "                      'PWD=192776775')\n",
    "\n",
    "# Cargar datos desde la base de datos\n",
    "query = \"SELECT COD_SUC, FECHA, CANAL, HORA, ACEPTA_OFERTA FROM TB_SALTA_OFERTA_SALON_DIARIO_MODELO_PY\"\n",
    "df = pd.read_sql(query, conn)\n",
    "\n",
    "# Preprocesamiento de la columna 'FECHA' y 'HORA'\n",
    "df['FECHA'] = pd.to_datetime(df['FECHA'], format='%d-%m-%Y')\n",
    "df['HORA'] = df['HORA'].astype(int)\n",
    "\n",
    "# Crear las características temporales antes de hacer el groupby\n",
    "df['DIA_LABORAL'] = df['FECHA'].dt.weekday < 5\n",
    "df['FIN_DE_SEMANA'] = df['FECHA'].dt.weekday >= 5\n",
    "df['DIA_SEMANA'] = df['FECHA'].dt.weekday\n",
    "df['DIA_DEL_MES'] = df['FECHA'].dt.day\n",
    "df['HORA_DEL_DIA'] = df['HORA']\n",
    "\n",
    "# Agregar feriados chilenos\n",
    "chile_holidays = holidays.Chile(years=[2023, 2024])\n",
    "df['ES_FERIADO'] = df['FECHA'].dt.date.isin(chile_holidays.keys())\n",
    "\n",
    "# Crear variables de lag y rolling para visitas previas (si aplicable)\n",
    "df['LAG_VISITAS'] = df['ACEPTA_OFERTA'].shift(1)\n",
    "df['ROLLING_VISITAS'] = df['ACEPTA_OFERTA'].rolling(window=3).mean()\n",
    "\n",
    "# Eliminar filas con valores faltantes\n",
    "df.dropna(inplace=True)\n",
    "\n",
    "# Agrupar los datos por sucursal y por hora para obtener el conteo de ACEPTA_OFERTA\n",
    "df_grouped = df.groupby(['COD_SUC', 'HORA']).agg({'ACEPTA_OFERTA': 'sum'}).reset_index()\n",
    "\n",
    "# Después del groupby, las características temporales ya se calculan para cada fila\n",
    "# Agregar las características temporales al dataframe agrupado\n",
    "df_grouped = df_grouped.merge(df[['COD_SUC', 'HORA', 'DIA_LABORAL', 'FIN_DE_SEMANA', 'DIA_SEMANA', 'DIA_DEL_MES', 'HORA_DEL_DIA', 'ES_FERIADO', 'LAG_VISITAS', 'ROLLING_VISITAS']],\n",
    "                              on=['COD_SUC', 'HORA'], how='left')\n",
    "\n",
    "# Eliminar columnas redundantes\n",
    "df_grouped = df_grouped[['COD_SUC', 'HORA', 'ACEPTA_OFERTA', 'DIA_LABORAL', 'FIN_DE_SEMANA', 'DIA_SEMANA', 'DIA_DEL_MES', 'HORA_DEL_DIA', 'ES_FERIADO', 'LAG_VISITAS', 'ROLLING_VISITAS']]\n",
    "\n",
    "# Definir las características (X) y la variable objetivo (y)\n",
    "X = df_grouped[['COD_SUC', 'DIA_LABORAL', 'FIN_DE_SEMANA', 'DIA_SEMANA', 'DIA_DEL_MES', 'HORA_DEL_DIA', 'ES_FERIADO', 'LAG_VISITAS', 'ROLLING_VISITAS']]\n",
    "y = df_grouped['ACEPTA_OFERTA']\n",
    "\n",
    "# Codificar la columna 'COD_SUC' (si es necesario)\n",
    "X = pd.get_dummies(X, columns=['COD_SUC'], drop_first=True)\n",
    "\n",
    "# Dividir los datos en conjunto de entrenamiento y prueba\n",
    "X_train, X_test, y_train, y_test = train_test_split(X, y, test_size=0.2, random_state=42)\n",
    "\n",
    "# Modelos a evaluar\n",
    "models = {\n",
    "    'XGBoost': XGBRegressor(eval_metric='mlogloss'),\n",
    "    'LightGBM': LGBMRegressor(),\n",
    "    'CatBoost': CatBoostRegressor(silent=True)\n",
    "}\n",
    "\n",
    "# Evaluar el rendimiento de cada modelo\n",
    "results = {}\n",
    "for name, model in models.items():\n",
    "    model.fit(X_train, y_train)\n",
    "    y_pred = model.predict(X_test)\n",
    "    mae = mean_absolute_error(y_test, y_pred)\n",
    "    r2 = r2_score(y_test, y_pred)\n",
    "    results[name] = {'MAE': mae, 'R²': r2}\n",
    "\n",
    "# Mostrar los resultados\n",
    "print(pd.DataFrame(results).T)\n"
   ],
   "id": "e374862f09111c5b",
   "outputs": [
    {
     "name": "stderr",
     "output_type": "stream",
     "text": [
      "C:\\Users\\iazuaz\\AppData\\Local\\Temp\\ipykernel_22904\\3839249845.py:22: UserWarning: pandas only supports SQLAlchemy connectable (engine/connection) or database string URI or sqlite3 DBAPI2 connection. Other DBAPI2 objects are not tested. Please consider using SQLAlchemy.\n",
      "  df = pd.read_sql(query, conn)\n"
     ]
    },
    {
     "name": "stdout",
     "output_type": "stream",
     "text": [
      "[LightGBM] [Info] Auto-choosing row-wise multi-threading, the overhead of testing was 0.018587 seconds.\n",
      "You can set `force_row_wise=true` to remove the overhead.\n",
      "And if memory is not enough, you can set `force_col_wise=true`.\n",
      "[LightGBM] [Info] Total Bins 224\n",
      "[LightGBM] [Info] Number of data points in the train set: 1123061, number of used features: 85\n",
      "[LightGBM] [Info] Start training from score 361.378474\n",
      "                MAE        R²\n",
      "XGBoost    9.030123  0.990922\n",
      "LightGBM  14.390441  0.987572\n",
      "CatBoost   4.179750  0.994272\n"
     ]
    }
   ],
   "execution_count": 9
  },
  {
   "metadata": {
    "ExecuteTime": {
     "end_time": "2025-05-14T19:29:58.466135Z",
     "start_time": "2025-05-14T19:29:58.455884Z"
    }
   },
   "cell_type": "code",
   "source": [
    "import holidays\n",
    "cl_holidays = holidays.Chile()\n",
    "for ptr in holidays.Chile(years = 2025).items():\n",
    "    print(ptr)"
   ],
   "id": "b06eea8195e174e",
   "outputs": [
    {
     "name": "stdout",
     "output_type": "stream",
     "text": [
      "(datetime.date(2025, 1, 1), \"New Year's Day\")\n",
      "(datetime.date(2025, 4, 18), 'Good Friday')\n",
      "(datetime.date(2025, 4, 19), 'Holy Saturday')\n",
      "(datetime.date(2025, 5, 1), 'Labor Day')\n",
      "(datetime.date(2025, 5, 21), 'Navy Day')\n",
      "(datetime.date(2025, 6, 20), 'National Day of Indigenous Peoples')\n",
      "(datetime.date(2025, 6, 29), \"Saint Peter and Saint Paul's Day\")\n",
      "(datetime.date(2025, 7, 16), 'Our Lady of Mount Carmel')\n",
      "(datetime.date(2025, 8, 15), 'Assumption Day')\n",
      "(datetime.date(2025, 9, 18), 'Independence Day')\n",
      "(datetime.date(2025, 9, 19), 'Army Day')\n",
      "(datetime.date(2025, 10, 12), \"Meeting of Two Worlds' Day\")\n",
      "(datetime.date(2025, 10, 31), 'Reformation Day')\n",
      "(datetime.date(2025, 11, 1), \"All Saints' Day\")\n",
      "(datetime.date(2025, 12, 8), 'Immaculate Conception')\n",
      "(datetime.date(2025, 12, 25), 'Christmas Day')\n"
     ]
    }
   ],
   "execution_count": 14
  },
  {
   "metadata": {},
   "cell_type": "code",
   "outputs": [],
   "execution_count": null,
   "source": "",
   "id": "57f25ac95958bafc"
  }
 ],
 "metadata": {},
 "nbformat": 4,
 "nbformat_minor": 5
}
