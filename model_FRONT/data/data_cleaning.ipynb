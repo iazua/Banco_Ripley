{
 "cells": [
  {
   "metadata": {},
   "cell_type": "markdown",
   "source": [
    "# This is a sample Jupyter Notebook\n",
    "\n",
    "Below is an example of a code cell. \n",
    "Put your cursor into the cell and press Shift+Enter to execute it and select the next one, or click 'Run Cell' button.\n",
    "\n",
    "Press Double Shift to search everywhere for classes, files, tool windows, actions, and settings.\n",
    "\n",
    "To learn more about Jupyter Notebooks in PyCharm, see [help](https://www.jetbrains.com/help/pycharm/ipython-notebook-support.html).\n",
    "For an overview of PyCharm, go to Help -> Learn IDE features or refer to [our documentation](https://www.jetbrains.com/help/pycharm/getting-started.html)."
   ],
   "id": "8a77807f92f26ee"
  },
  {
   "metadata": {
    "ExecuteTime": {
     "end_time": "2025-05-17T01:42:47.081950300Z",
     "start_time": "2025-05-07T15:29:50.052576Z"
    }
   },
   "cell_type": "code",
   "source": "import pickle",
   "id": "61168ffc0e9d5812",
   "outputs": [],
   "execution_count": 13
  },
  {
   "metadata": {
    "ExecuteTime": {
     "end_time": "2025-05-17T01:42:47.095903500Z",
     "start_time": "2025-05-07T15:31:00.277694Z"
    }
   },
   "cell_type": "code",
   "source": [
    "import pandas as pd\n",
    "\n",
    "# Ruta al archivo CSV\n",
    "file_path = r\"/model_FRONT/data/BBDD_calls.csv\"\n",
    "\n",
    "# Leer el archivo usando separador ';' y solo columnas necesarias\n",
    "df = pd.read_csv(file_path, sep=';', usecols=['Fecha', 'Llamadas_Predecidas', 'Llamadas_Recibidas', 'Es_Cyber'])\n",
    "\n",
    "# Mostrar columnas y primeras filas\n",
    "print(\"Columnas reales:\")\n",
    "print(df.columns.tolist())\n",
    "display(df.head())\n",
    "\n",
    "# Reemplazar nulos con 0 (excepto en la fecha)\n",
    "cols_to_fill = ['Llamadas_Predecidas', 'Llamadas_Recibidas', 'Es_Cyber']\n",
    "df[cols_to_fill] = df[cols_to_fill].fillna(0)\n",
    "\n",
    "# Convertir Fecha a datetime\n",
    "df['Fecha'] = pd.to_datetime(df['Fecha'], dayfirst=True, errors='coerce')\n",
    "\n",
    "# Es_Cyber a binario\n",
    "df['Es_Cyber'] = df['Es_Cyber'].astype(str).str.upper().replace({'SI': 1, 'NO': 0}).astype(int)\n",
    "\n",
    "# Convertir numéricas\n",
    "df['Llamadas_Predecidas'] = pd.to_numeric(df['Llamadas_Predecidas'], errors='coerce').fillna(0).astype(int)\n",
    "df['Llamadas_Recibidas'] = pd.to_numeric(df['Llamadas_Recibidas'], errors='coerce').fillna(0).astype(int)\n",
    "\n",
    "# Verificación\n",
    "print(\"\\nDatos limpios:\")\n",
    "display(df.head())\n",
    "print(\"\\nTipos de datos:\")\n",
    "print(df.dtypes)\n",
    "\n",
    "# Guardar como pickle\n",
    "pkl_path = r'/model_FRONT/data/data_limpia_llamadas.pkl'\n",
    "df.to_pickle(pkl_path)\n",
    "print(f\"\\n✅ Archivo guardado como '{pkl_path}'\")"
   ],
   "id": "fbc121e30a2defb3",
   "outputs": [
    {
     "name": "stdout",
     "output_type": "stream",
     "text": [
      "Columnas reales:\n",
      "['Fecha', 'Llamadas_Predecidas', 'Llamadas_Recibidas', 'Es_Cyber']\n"
     ]
    },
    {
     "data": {
      "text/plain": [
       "        Fecha  Llamadas_Predecidas  Llamadas_Recibidas Es_Cyber\n",
       "0  01-06-2021               5328.0              9800.0       SI\n",
       "1  02-06-2021               5114.0              7687.0       SI\n",
       "2  03-06-2021               4906.0              5895.0       NO\n",
       "3  04-06-2021               4534.0              5045.0       NO\n",
       "4  05-06-2021               1757.0              2228.0       NO"
      ],
      "text/html": [
       "<div>\n",
       "<style scoped>\n",
       "    .dataframe tbody tr th:only-of-type {\n",
       "        vertical-align: middle;\n",
       "    }\n",
       "\n",
       "    .dataframe tbody tr th {\n",
       "        vertical-align: top;\n",
       "    }\n",
       "\n",
       "    .dataframe thead th {\n",
       "        text-align: right;\n",
       "    }\n",
       "</style>\n",
       "<table border=\"1\" class=\"dataframe\">\n",
       "  <thead>\n",
       "    <tr style=\"text-align: right;\">\n",
       "      <th></th>\n",
       "      <th>Fecha</th>\n",
       "      <th>Llamadas_Predecidas</th>\n",
       "      <th>Llamadas_Recibidas</th>\n",
       "      <th>Es_Cyber</th>\n",
       "    </tr>\n",
       "  </thead>\n",
       "  <tbody>\n",
       "    <tr>\n",
       "      <th>0</th>\n",
       "      <td>01-06-2021</td>\n",
       "      <td>5328.0</td>\n",
       "      <td>9800.0</td>\n",
       "      <td>SI</td>\n",
       "    </tr>\n",
       "    <tr>\n",
       "      <th>1</th>\n",
       "      <td>02-06-2021</td>\n",
       "      <td>5114.0</td>\n",
       "      <td>7687.0</td>\n",
       "      <td>SI</td>\n",
       "    </tr>\n",
       "    <tr>\n",
       "      <th>2</th>\n",
       "      <td>03-06-2021</td>\n",
       "      <td>4906.0</td>\n",
       "      <td>5895.0</td>\n",
       "      <td>NO</td>\n",
       "    </tr>\n",
       "    <tr>\n",
       "      <th>3</th>\n",
       "      <td>04-06-2021</td>\n",
       "      <td>4534.0</td>\n",
       "      <td>5045.0</td>\n",
       "      <td>NO</td>\n",
       "    </tr>\n",
       "    <tr>\n",
       "      <th>4</th>\n",
       "      <td>05-06-2021</td>\n",
       "      <td>1757.0</td>\n",
       "      <td>2228.0</td>\n",
       "      <td>NO</td>\n",
       "    </tr>\n",
       "  </tbody>\n",
       "</table>\n",
       "</div>"
      ]
     },
     "metadata": {},
     "output_type": "display_data"
    },
    {
     "name": "stdout",
     "output_type": "stream",
     "text": [
      "\n",
      "Datos limpios:\n"
     ]
    },
    {
     "name": "stderr",
     "output_type": "stream",
     "text": [
      "C:\\Users\\iazuaz\\AppData\\Local\\Temp\\ipykernel_20064\\3660423014.py:22: FutureWarning: Downcasting behavior in `replace` is deprecated and will be removed in a future version. To retain the old behavior, explicitly call `result.infer_objects(copy=False)`. To opt-in to the future behavior, set `pd.set_option('future.no_silent_downcasting', True)`\n",
      "  df['Es_Cyber'] = df['Es_Cyber'].astype(str).str.upper().replace({'SI': 1, 'NO': 0}).astype(int)\n"
     ]
    },
    {
     "data": {
      "text/plain": [
       "       Fecha  Llamadas_Predecidas  Llamadas_Recibidas  Es_Cyber\n",
       "0 2021-06-01                 5328                9800         1\n",
       "1 2021-06-02                 5114                7687         1\n",
       "2 2021-06-03                 4906                5895         0\n",
       "3 2021-06-04                 4534                5045         0\n",
       "4 2021-06-05                 1757                2228         0"
      ],
      "text/html": [
       "<div>\n",
       "<style scoped>\n",
       "    .dataframe tbody tr th:only-of-type {\n",
       "        vertical-align: middle;\n",
       "    }\n",
       "\n",
       "    .dataframe tbody tr th {\n",
       "        vertical-align: top;\n",
       "    }\n",
       "\n",
       "    .dataframe thead th {\n",
       "        text-align: right;\n",
       "    }\n",
       "</style>\n",
       "<table border=\"1\" class=\"dataframe\">\n",
       "  <thead>\n",
       "    <tr style=\"text-align: right;\">\n",
       "      <th></th>\n",
       "      <th>Fecha</th>\n",
       "      <th>Llamadas_Predecidas</th>\n",
       "      <th>Llamadas_Recibidas</th>\n",
       "      <th>Es_Cyber</th>\n",
       "    </tr>\n",
       "  </thead>\n",
       "  <tbody>\n",
       "    <tr>\n",
       "      <th>0</th>\n",
       "      <td>2021-06-01</td>\n",
       "      <td>5328</td>\n",
       "      <td>9800</td>\n",
       "      <td>1</td>\n",
       "    </tr>\n",
       "    <tr>\n",
       "      <th>1</th>\n",
       "      <td>2021-06-02</td>\n",
       "      <td>5114</td>\n",
       "      <td>7687</td>\n",
       "      <td>1</td>\n",
       "    </tr>\n",
       "    <tr>\n",
       "      <th>2</th>\n",
       "      <td>2021-06-03</td>\n",
       "      <td>4906</td>\n",
       "      <td>5895</td>\n",
       "      <td>0</td>\n",
       "    </tr>\n",
       "    <tr>\n",
       "      <th>3</th>\n",
       "      <td>2021-06-04</td>\n",
       "      <td>4534</td>\n",
       "      <td>5045</td>\n",
       "      <td>0</td>\n",
       "    </tr>\n",
       "    <tr>\n",
       "      <th>4</th>\n",
       "      <td>2021-06-05</td>\n",
       "      <td>1757</td>\n",
       "      <td>2228</td>\n",
       "      <td>0</td>\n",
       "    </tr>\n",
       "  </tbody>\n",
       "</table>\n",
       "</div>"
      ]
     },
     "metadata": {},
     "output_type": "display_data"
    },
    {
     "name": "stdout",
     "output_type": "stream",
     "text": [
      "\n",
      "Tipos de datos:\n",
      "Fecha                  datetime64[ns]\n",
      "Llamadas_Predecidas             int64\n",
      "Llamadas_Recibidas              int64\n",
      "Es_Cyber                        int64\n",
      "dtype: object\n",
      "\n",
      "✅ Archivo guardado como 'C:\\Users\\iazuaz\\PyCharmMiscProject\\model_FRONT\\data\\data_limpia_llamadas.pkl'\n"
     ]
    }
   ],
   "execution_count": 16
  },
  {
   "metadata": {
    "ExecuteTime": {
     "end_time": "2025-05-17T01:42:47.101884200Z",
     "start_time": "2025-05-07T15:54:53.174731Z"
    }
   },
   "cell_type": "code",
   "source": [
    "import sklearn\n",
    "print(sklearn.__version__)"
   ],
   "id": "13ebd1c6cbdd204f",
   "outputs": [
    {
     "name": "stdout",
     "output_type": "stream",
     "text": [
      "1.6.1\n"
     ]
    }
   ],
   "execution_count": 18
  },
  {
   "metadata": {
    "ExecuteTime": {
     "end_time": "2025-05-17T01:42:47.039343Z",
     "start_time": "2025-05-17T01:42:46.012413Z"
    }
   },
   "cell_type": "code",
   "source": "print(df)",
   "id": "736a9c81e3d9b5c6",
   "outputs": [
    {
     "ename": "NameError",
     "evalue": "name 'df' is not defined",
     "output_type": "error",
     "traceback": [
      "\u001B[31m---------------------------------------------------------------------------\u001B[39m",
      "\u001B[31mNameError\u001B[39m                                 Traceback (most recent call last)",
      "\u001B[36mCell\u001B[39m\u001B[36m \u001B[39m\u001B[32mIn[1]\u001B[39m\u001B[32m, line 1\u001B[39m\n\u001B[32m----> \u001B[39m\u001B[32m1\u001B[39m \u001B[38;5;28mprint\u001B[39m(\u001B[43mdf\u001B[49m)\n",
      "\u001B[31mNameError\u001B[39m: name 'df' is not defined"
     ]
    }
   ],
   "execution_count": 1
  },
  {
   "metadata": {},
   "cell_type": "code",
   "outputs": [],
   "execution_count": null,
   "source": "",
   "id": "768fe858907307c4"
  },
  {
   "metadata": {},
   "cell_type": "code",
   "outputs": [],
   "execution_count": null,
   "source": "",
   "id": "67f8410c25d180fa"
  }
 ],
 "metadata": {
  "kernelspec": {
   "display_name": "Python 3",
   "language": "python",
   "name": "python3"
  },
  "language_info": {
   "codemirror_mode": {
    "name": "ipython",
    "version": 2
   },
   "file_extension": ".py",
   "mimetype": "text/x-python",
   "name": "python",
   "nbconvert_exporter": "python",
   "pygments_lexer": "ipython2",
   "version": "2.7.6"
  }
 },
 "nbformat": 4,
 "nbformat_minor": 5
}
